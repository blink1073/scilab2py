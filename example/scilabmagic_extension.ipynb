{
 "metadata": {
  "kernelspec": {
   "codemirror_mode": {
    "name": "ipython",
    "version": 3
   },
   "display_name": "IPython (Python 3)",
   "language": "python",
   "name": "python3"
  },
  "name": "",
  "signature": "sha256:5c0c036736e09c6e4457e0766ab295acb0216f424d0021ca36483f1e309fe3c8"
 },
 "nbformat": 3,
 "nbformat_minor": 0,
 "worksheets": [
  {
   "cells": [
    {
     "cell_type": "heading",
     "level": 1,
     "metadata": {},
     "source": [
      "scilabmagic: Scilab inside IPython"
     ]
    },
    {
     "cell_type": "heading",
     "level": 2,
     "metadata": {},
     "source": [
      "Installation"
     ]
    },
    {
     "cell_type": "markdown",
     "metadata": {},
     "source": [
      "The `scilabmagic` extension provides the ability to interact with Scilab.  It is provided by the `scilab2py` package,\n",
      "which may be installed using `pip` or `easy_install`.\n",
      "\n",
      "To enable the extension, load it as follows:"
     ]
    },
    {
     "cell_type": "code",
     "collapsed": false,
     "input": [
      "%load_ext scilab2py.ipython\n"
     ],
     "language": "python",
     "metadata": {},
     "outputs": [],
     "prompt_number": 1
    },
    {
     "cell_type": "heading",
     "level": 2,
     "metadata": {},
     "source": [
      "Overview"
     ]
    },
    {
     "cell_type": "markdown",
     "metadata": {},
     "source": [
      "Loading the extension enables three magic functions: `%scilab`, `%scilab_push`, and `%scilab_pull`.\n",
      "\n",
      "The first is for executing one or more lines of Scilab, while the latter allow moving variables between the Scilab and Python workspace.\n",
      "Here you see an example of how to execute a single line of Scilab, and how to transfer the generated value back to Python:"
     ]
    },
    {
     "cell_type": "code",
     "collapsed": false,
     "input": [
      "x = %scilab [1 2; 3 4];\n",
      "x"
     ],
     "language": "python",
     "metadata": {},
     "outputs": [
      {
       "metadata": {},
       "output_type": "display_data",
       "text": []
      },
      {
       "metadata": {},
       "output_type": "display_data",
       "png": "[encoded data removed]"
      }
     ],
     "prompt_number": 2
    },
    {
     "cell_type": "code",
     "collapsed": false,
     "input": [
      "a = [1, 2, 3]\n",
      "\n",
      "%scilab_push a\n",
      "%scilab a = a * 2;\n",
      "%scilab_pull a\n",
      "a"
     ],
     "language": "python",
     "metadata": {},
     "outputs": [
      {
       "metadata": {},
       "output_type": "display_data",
       "text": []
      },
      {
       "metadata": {},
       "output_type": "display_data",
       "png": "[encoded data removed]"
      }
     ],
     "prompt_number": 3
    },
    {
     "cell_type": "markdown",
     "metadata": {},
     "source": [
      "When using the cell magic, `%%scilab` (note the double `%`), multiple lines of Scilab can be executed together.  Unlike\n",
      "with the single cell magic, no value is returned, so we use the `-i` and `-o` flags to specify input and output variables."
     ]
    },
    {
     "cell_type": "code",
     "collapsed": false,
     "input": [
      "%%scilab -i x -o y\n",
      "y = x + 3;"
     ],
     "language": "python",
     "metadata": {},
     "outputs": [
      {
       "metadata": {},
       "output_type": "display_data",
       "text": []
      },
      {
       "metadata": {},
       "output_type": "display_data",
       "png": "[encoded data removed]"
      }
     ],
     "prompt_number": 4
    },
    {
     "cell_type": "code",
     "collapsed": false,
     "input": [
      "y"
     ],
     "language": "python",
     "metadata": {},
     "outputs": [],
     "prompt_number": 5
    },
    {
     "cell_type": "heading",
     "level": 2,
     "metadata": {},
     "source": [
      "Plotting"
     ]
    },
    {
     "cell_type": "markdown",
     "metadata": {},
     "source": [
      "Plot output is automatically captured and displayed, and using the `-f` flag you may choose its format (currently, `png`, `svg` `jpg`, and `jpeg` are supported)."
     ]
    },
    {
     "cell_type": "code",
     "collapsed": false,
     "input": [
      "%%scilab -f svg\n",
      "\n",
      "xset(\"fpf\",\" \")\n",
      "contour2d(1:10,1:10,rand(10,10),5,rect=[0,0,11,11]);"
     ],
     "language": "python",
     "metadata": {},
     "outputs": [
      {
       "metadata": {},
       "output_type": "display_data",
       "text": []
      },
      {
       "metadata": {},
       "output_type": "display_data",
       "svg": [
        "<?xml version=\"1.0\" encoding=\"UTF-8\"?>\n",
        "<!DOCTYPE svg PUBLIC '-//W3C//DTD SVG 1.0//EN'\n",
        "          'http://www.w3.org/TR/2001/REC-SVG-20010904/DTD/svg10.dtd'>\n",
        "<svg xmlns:xlink=\"http://www.w3.org/1999/xlink\" style=\"fill-opacity:1; color-rendering:auto; color-interpolation:auto; stroke:black; text-rendering:auto; stroke-linecap:square; stroke-miterlimit:10; stroke-opacity:1; shape-rendering:auto; fill:black; stroke-dasharray:none; font-weight:normal; stroke-width:1; font-family:&apos;Dialog&apos;; font-style:normal; stroke-linejoin:miter; font-size:12; stroke-dashoffset:0; image-rendering:auto;\" width=\"607\" height=\"472\" xmlns=\"http://www.w3.org/2000/svg\"\n",
        "><!--Generated by Scilab with Batik SVG Generator--><defs id=\"genericDefs\"\n",
        "  /><g\n",
        "  ><defs id=\"defs1\"\n",
        "    ><clipPath clipPathUnits=\"userSpaceOnUse\" id=\"clipPath1\"\n",
        "      ><path d=\"M75.8704 58.9965 L531.1296 58.9965 L531.1296 413.0035 L75.8704 413.0035 L75.8704 58.9965 Z\"\n",
        "      /></clipPath\n",
        "      ><font horiz-adv-x=\"60.0\" id=\"font1\"\n",
        "      ><font-face ascent=\"92.822266\" descent=\"23.583984\" units-per-em=\"100\" style=\"font-style:normal; font-family:sans-serif; font-weight:normal;\"\n",
        "        /><missing-glyph horiz-adv-x=\"60.0\" d=\"M4.9844 -17.6719 L4.9844 70.5156 L54.9844 70.5156 L54.9844 -17.6719 L4.9844 -17.6719 ZM10.5938 -12.1094 L49.4219 -12.1094 L49.4219 64.8906 L10.5938 64.8906 L10.5938 -12.1094 Z\"\n",
        "        /><glyph unicode=\"2\" horiz-adv-x=\"64.0\" d=\"M19.1875 8.2969 L53.6094 8.2969 L53.6094 0 L7.3281 0 L7.3281 8.2969 Q12.9375 14.1094 22.6328 23.8984 Q32.3281 33.6875 34.8125 36.5312 Q39.5469 41.8438 41.4297 45.5312 Q43.3125 49.2188 43.3125 52.7812 Q43.3125 58.5938 39.2344 62.2578 Q35.1562 65.9219 28.6094 65.9219 Q23.9688 65.9219 18.8203 64.3125 Q13.6719 62.7031 7.8125 59.4219 L7.8125 69.3906 Q13.7656 71.7812 18.9453 73 Q24.125 74.2188 28.4219 74.2188 Q39.75 74.2188 46.4844 68.5547 Q53.2188 62.8906 53.2188 53.4219 Q53.2188 48.9219 51.5391 44.8984 Q49.8594 40.875 45.4062 35.4062 Q44.1875 33.9844 37.6484 27.2188 Q31.1094 20.4531 19.1875 8.2969 Z\"\n",
        "        /><glyph unicode=\"1\" horiz-adv-x=\"64.0\" d=\"M12.4062 8.2969 L28.5156 8.2969 L28.5156 63.9219 L10.9844 60.4062 L10.9844 69.3906 L28.4219 72.9062 L38.2812 72.9062 L38.2812 8.2969 L54.3906 8.2969 L54.3906 0 L12.4062 0 L12.4062 8.2969 Z\"\n",
        "        /><glyph unicode=\"3\" horiz-adv-x=\"64.0\" d=\"M40.5781 39.3125 Q47.6562 37.7969 51.6328 33.0078 Q55.6094 28.2188 55.6094 21.1875 Q55.6094 10.4062 48.1875 4.4922 Q40.7656 -1.4219 27.0938 -1.4219 Q22.5156 -1.4219 17.6562 -0.5156 Q12.7969 0.3906 7.625 2.2031 L7.625 11.7188 Q11.7188 9.3281 16.6016 8.1094 Q21.4844 6.8906 26.8125 6.8906 Q36.0781 6.8906 40.9375 10.5469 Q45.7969 14.2031 45.7969 21.1875 Q45.7969 27.6406 41.2812 31.2734 Q36.7656 34.9062 28.7188 34.9062 L20.2188 34.9062 L20.2188 43.0156 L29.1094 43.0156 Q36.375 43.0156 40.2344 45.9219 Q44.0938 48.8281 44.0938 54.2969 Q44.0938 59.9062 40.1172 62.9141 Q36.1406 65.9219 28.7188 65.9219 Q24.6562 65.9219 20.0156 65.0391 Q15.375 64.1562 9.8125 62.3125 L9.8125 71.0938 Q15.4375 72.6562 20.3438 73.4375 Q25.25 74.2188 29.5938 74.2188 Q40.8281 74.2188 47.3672 69.1172 Q53.9062 64.0156 53.9062 55.3281 Q53.9062 49.2656 50.4375 45.0938 Q46.9688 40.9219 40.5781 39.3125 Z\"\n",
        "        /><glyph unicode=\".\" horiz-adv-x=\"32.0\" d=\"M10.6875 12.4062 L21 12.4062 L21 0 L10.6875 0 L10.6875 12.4062 Z\"\n",
        "        /><glyph unicode=\"4\" horiz-adv-x=\"64.0\" d=\"M37.7969 64.3125 L12.8906 25.3906 L37.7969 25.3906 L37.7969 64.3125 ZM35.2031 72.9062 L47.6094 72.9062 L47.6094 25.3906 L58.0156 25.3906 L58.0156 17.1875 L47.6094 17.1875 L47.6094 0 L37.7969 0 L37.7969 17.1875 L4.8906 17.1875 L4.8906 26.7031 L35.2031 72.9062 Z\"\n",
        "        /><glyph unicode=\"6\" horiz-adv-x=\"64.0\" d=\"M33.0156 40.375 Q26.375 40.375 22.4922 35.8359 Q18.6094 31.2969 18.6094 23.3906 Q18.6094 15.5312 22.4922 10.9609 Q26.375 6.3906 33.0156 6.3906 Q39.6562 6.3906 43.5312 10.9609 Q47.4062 15.5312 47.4062 23.3906 Q47.4062 31.2969 43.5312 35.8359 Q39.6562 40.375 33.0156 40.375 ZM52.5938 71.2969 L52.5938 62.3125 Q48.875 64.0625 45.0938 64.9922 Q41.3125 65.9219 37.5938 65.9219 Q27.8281 65.9219 22.6797 59.3281 Q17.5312 52.7344 16.7969 39.4062 Q19.6719 43.6562 24.0234 45.9219 Q28.375 48.1875 33.5938 48.1875 Q44.5781 48.1875 50.9531 41.5234 Q57.3281 34.8594 57.3281 23.3906 Q57.3281 12.1562 50.6875 5.3672 Q44.0469 -1.4219 33.0156 -1.4219 Q20.3594 -1.4219 13.6719 8.2734 Q6.9844 17.9688 6.9844 36.375 Q6.9844 53.6562 15.1875 63.9375 Q23.3906 74.2188 37.2031 74.2188 Q40.9219 74.2188 44.7031 73.4844 Q48.4844 72.75 52.5938 71.2969 Z\"\n",
        "        /><glyph unicode=\"8\" horiz-adv-x=\"64.0\" d=\"M31.7812 34.625 Q24.75 34.625 20.7266 30.8594 Q16.7031 27.0938 16.7031 20.5156 Q16.7031 13.9219 20.7266 10.1562 Q24.75 6.3906 31.7812 6.3906 Q38.8125 6.3906 42.8672 10.1797 Q46.9219 13.9688 46.9219 20.5156 Q46.9219 27.0938 42.8984 30.8594 Q38.875 34.625 31.7812 34.625 ZM21.9219 38.8125 Q15.5781 40.375 12.0391 44.7266 Q8.5 49.0781 8.5 55.3281 Q8.5 64.0625 14.7266 69.1406 Q20.9531 74.2188 31.7812 74.2188 Q42.6719 74.2188 48.875 69.1406 Q55.0781 64.0625 55.0781 55.3281 Q55.0781 49.0781 51.5391 44.7266 Q48 40.375 41.7031 38.8125 Q48.8281 37.1562 52.8047 32.3203 Q56.7812 27.4844 56.7812 20.5156 Q56.7812 9.9062 50.3125 4.2422 Q43.8438 -1.4219 31.7812 -1.4219 Q19.7344 -1.4219 13.2578 4.2422 Q6.7812 9.9062 6.7812 20.5156 Q6.7812 27.4844 10.7891 32.3203 Q14.7969 37.1562 21.9219 38.8125 ZM18.3125 54.3906 Q18.3125 48.7344 21.8516 45.5625 Q25.3906 42.3906 31.7812 42.3906 Q38.1406 42.3906 41.7266 45.5625 Q45.3125 48.7344 45.3125 54.3906 Q45.3125 60.0625 41.7266 63.2344 Q38.1406 66.4062 31.7812 66.4062 Q25.3906 66.4062 21.8516 63.2344 Q18.3125 60.0625 18.3125 54.3906 Z\"\n",
        "      /></font\n",
        "    ></defs\n",
        "    ><g style=\"fill:white; text-rendering:optimizeLegibility; stroke:white;\"\n",
        "    ><rect x=\"0\" width=\"607\" height=\"472\" y=\"0\" style=\"stroke:none;\"\n",
        "    /></g\n",
        "    ><g style=\"stroke-linecap:butt; fill:white; text-rendering:geometricPrecision; stroke-linejoin:bevel; shape-rendering:crispEdges; stroke:white; stroke-width:0;\"\n",
        "    ><path style=\"stroke:none;\" d=\"M531.125 59 L531.125 413 L75.875 59 Z\"\n",
        "      /><path style=\"stroke:none;\" d=\"M531.125 413 L75.875 413 L75.875 59 Z\"\n",
        "      /><path style=\"stroke:none;\" d=\"M531.125 59 L531.125 413 L531.125 413 Z\"\n",
        "      /><path style=\"stroke:none;\" d=\"M75.875 59 L75.875 413 L75.875 413 Z\"\n",
        "      /><path style=\"stroke:none;\" d=\"M531.125 59 L531.125 413 L75.875 59 Z\"\n",
        "      /><path style=\"stroke:none;\" d=\"M531.125 413 L75.875 413 L75.875 59 Z\"\n",
        "      /><path style=\"stroke:none;\" d=\"M531.125 59 L531.125 59 L531.125 413 Z\"\n",
        "      /><path style=\"stroke:none;\" d=\"M75.875 59 L75.875 59 L75.875 413 Z\"\n",
        "      /><path style=\"stroke:none;\" d=\"M531.125 59 L75.875 59 L531.125 59 Z\"\n",
        "      /><path style=\"stroke:none;\" d=\"M75.875 59 L75.875 59 L531.125 59 Z\"\n",
        "      /><path style=\"stroke:none;\" d=\"M531.125 413 L75.875 413 L531.125 413 Z\"\n",
        "      /><path style=\"stroke:none;\" d=\"M75.875 413 L75.875 413 L531.125 413 Z\"\n",
        "    /></g\n",
        "    ><g transform=\"translate(300,422)\" style=\"font-size:10; stroke-linecap:butt; text-rendering:geometricPrecision; font-family:sans-serif; stroke-linejoin:bevel; stroke-width:0;\"\n",
        "    ><text x=\"-0.7344\" xml:space=\"preserve\" y=\"9.2822\" style=\"stroke:none;\"\n",
        "      >2</text\n",
        "    ></g\n",
        "    ><g transform=\"translate(72.375,422)\" style=\"font-size:10; stroke-linecap:butt; text-rendering:geometricPrecision; font-family:sans-serif; stroke-linejoin:bevel; stroke-width:0;\"\n",
        "    ><text x=\"-1.0938\" xml:space=\"preserve\" y=\"9.2822\" style=\"stroke:none;\"\n",
        "      >1</text\n",
        "    ></g\n",
        "    ><g transform=\"translate(527.625,422)\" style=\"font-size:10; stroke-linecap:butt; text-rendering:geometricPrecision; font-family:sans-serif; stroke-linejoin:bevel; stroke-width:0;\"\n",
        "    ><text x=\"-0.7656\" xml:space=\"preserve\" y=\"9.2822\" style=\"stroke:none;\"\n",
        "      >3</text\n",
        "    ></g\n",
        "    ><g transform=\"translate(113.4,422)\" style=\"font-size:10; stroke-linecap:butt; text-rendering:geometricPrecision; font-family:sans-serif; stroke-linejoin:bevel; stroke-width:0;\"\n",
        "    ><text x=\"-1.0938\" xml:space=\"preserve\" y=\"9.2822\" style=\"stroke:none;\"\n",
        "      >1.2</text\n",
        "    ></g\n",
        "    ><g transform=\"translate(158.925,422)\" style=\"font-size:10; stroke-linecap:butt; text-rendering:geometricPrecision; font-family:sans-serif; stroke-linejoin:bevel; stroke-width:0;\"\n",
        "    ><text x=\"-1.0938\" xml:space=\"preserve\" y=\"9.2822\" style=\"stroke:none;\"\n",
        "      >1.4</text\n",
        "    ></g\n",
        "    ><g transform=\"translate(204.45,422)\" style=\"font-size:10; stroke-linecap:butt; text-rendering:geometricPrecision; font-family:sans-serif; stroke-linejoin:bevel; stroke-width:0;\"\n",
        "    ><text x=\"-1.0938\" xml:space=\"preserve\" y=\"9.2822\" style=\"stroke:none;\"\n",
        "      >1.6</text\n",
        "    ></g\n",
        "    ><g transform=\"translate(249.975,422)\" style=\"font-size:10; stroke-linecap:butt; text-rendering:geometricPrecision; font-family:sans-serif; stroke-linejoin:bevel; stroke-width:0;\"\n",
        "    ><text x=\"-1.0938\" xml:space=\"preserve\" y=\"9.2822\" style=\"stroke:none;\"\n",
        "      >1.8</text\n",
        "    ></g\n",
        "    ><g transform=\"translate(341.025,422)\" style=\"font-size:10; stroke-linecap:butt; text-rendering:geometricPrecision; font-family:sans-serif; stroke-linejoin:bevel; stroke-width:0;\"\n",
        "    ><text x=\"-0.7344\" xml:space=\"preserve\" y=\"9.2822\" style=\"stroke:none;\"\n",
        "      >2.2</text\n",
        "    ></g\n",
        "    ><g transform=\"translate(386.05,422)\" style=\"font-size:10; stroke-linecap:butt; text-rendering:geometricPrecision; font-family:sans-serif; stroke-linejoin:bevel; stroke-width:0;\"\n",
        "    ><text x=\"-0.7344\" xml:space=\"preserve\" y=\"9.2822\" style=\"stroke:none;\"\n",
        "      >2.4</text\n",
        "    ></g\n",
        "    ><g transform=\"translate(432.075,422)\" style=\"font-size:10; stroke-linecap:butt; text-rendering:geometricPrecision; font-family:sans-serif; stroke-linejoin:bevel; stroke-width:0;\"\n",
        "    ><text x=\"-0.7344\" xml:space=\"preserve\" y=\"9.2822\" style=\"stroke:none;\"\n",
        "      >2.6</text\n",
        "    ></g\n",
        "    ><g transform=\"translate(477.6,422)\" style=\"font-size:10; stroke-linecap:butt; text-rendering:geometricPrecision; font-family:sans-serif; stroke-linejoin:bevel; stroke-width:0;\"\n",
        "    ><text x=\"-0.7344\" xml:space=\"preserve\" y=\"9.2822\" style=\"stroke:none;\"\n",
        "      >2.8</text\n",
        "    ></g\n",
        "    ><g style=\"text-rendering:geometricPrecision; font-size:10; shape-rendering:crispEdges; font-family:sans-serif; stroke-linecap:butt;\"\n",
        "    ><path style=\"fill:none;\" d=\"M75.875 413 L75.875 419\"\n",
        "      /><path style=\"fill:none;\" d=\"M121.4 413 L121.4 419\"\n",
        "      /><path style=\"fill:none;\" d=\"M166.925 413 L166.925 419\"\n",
        "      /><path style=\"fill:none;\" d=\"M212.45 413 L212.45 419\"\n",
        "      /><path style=\"fill:none;\" d=\"M257.975 413 L257.975 419\"\n",
        "      /><path style=\"fill:none;\" d=\"M303.5 413 L303.5 419\"\n",
        "      /><path style=\"fill:none;\" d=\"M349.025 413 L349.025 419\"\n",
        "      /><path style=\"fill:none;\" d=\"M394.55 413 L394.55 419\"\n",
        "      /><path style=\"fill:none;\" d=\"M440.075 413 L440.075 419\"\n",
        "      /><path style=\"fill:none;\" d=\"M485.6 413 L485.6 419\"\n",
        "      /><path style=\"fill:none;\" d=\"M531.125 413 L531.125 419\"\n",
        "      /><path style=\"fill:none;\" d=\"M75.875 413 L75.875 416\"\n",
        "      /><path style=\"fill:none;\" d=\"M98.6375 413 L98.6375 416\"\n",
        "      /><path style=\"fill:none;\" d=\"M121.4 413 L121.4 416\"\n",
        "      /><path style=\"fill:none;\" d=\"M144.1625 413 L144.1625 416\"\n",
        "      /><path style=\"fill:none;\" d=\"M166.925 413 L166.925 416\"\n",
        "      /><path style=\"fill:none;\" d=\"M189.6875 413 L189.6875 416\"\n",
        "      /><path style=\"fill:none;\" d=\"M212.45 413 L212.45 416\"\n",
        "      /><path style=\"fill:none;\" d=\"M235.2125 413 L235.2125 416\"\n",
        "      /><path style=\"fill:none;\" d=\"M257.975 413 L257.975 416\"\n",
        "      /><path style=\"fill:none;\" d=\"M280.7375 413 L280.7375 416\"\n",
        "      /><path style=\"fill:none;\" d=\"M303.5 413 L303.5 416\"\n",
        "      /><path style=\"fill:none;\" d=\"M326.2625 413 L326.2625 416\"\n",
        "      /><path style=\"fill:none;\" d=\"M349.025 413 L349.025 416\"\n",
        "      /><path style=\"fill:none;\" d=\"M371.7875 413 L371.7875 416\"\n",
        "      /><path style=\"fill:none;\" d=\"M394.55 413 L394.55 416\"\n",
        "      /><path style=\"fill:none;\" d=\"M417.3125 413 L417.3125 416\"\n",
        "      /><path style=\"fill:none;\" d=\"M440.075 413 L440.075 416\"\n",
        "      /><path style=\"fill:none;\" d=\"M462.8375 413 L462.8375 416\"\n",
        "      /><path style=\"fill:none;\" d=\"M485.6 413 L485.6 416\"\n",
        "      /><path style=\"fill:none;\" d=\"M508.3625 413 L508.3625 416\"\n",
        "      /><path style=\"fill:none;\" d=\"M531.125 413 L531.125 416\"\n",
        "      /><path style=\"fill:none;\" d=\"M531.125 413 L75.875 413\"\n",
        "      /><text x=\"-0.7344\" y=\"9.2822\" transform=\"translate(59.875,229.5)\" style=\"stroke-linejoin:bevel; shape-rendering:auto; stroke:none; stroke-width:0;\" xml:space=\"preserve\"\n",
        "      >2</text\n",
        "    ></g\n",
        "    ><g transform=\"translate(59.875,406.5)\" style=\"font-size:10; stroke-linecap:butt; text-rendering:geometricPrecision; font-family:sans-serif; stroke-linejoin:bevel; stroke-width:0;\"\n",
        "    ><text x=\"-1.0938\" xml:space=\"preserve\" y=\"9.2822\" style=\"stroke:none;\"\n",
        "      >1</text\n",
        "    ></g\n",
        "    ><g transform=\"translate(59.875,52.5)\" style=\"font-size:10; stroke-linecap:butt; text-rendering:geometricPrecision; font-family:sans-serif; stroke-linejoin:bevel; stroke-width:0;\"\n",
        "    ><text x=\"-0.7656\" xml:space=\"preserve\" y=\"9.2822\" style=\"stroke:none;\"\n",
        "      >3</text\n",
        "    ></g\n",
        "    ><g transform=\"translate(50.875,371.1)\" style=\"font-size:10; stroke-linecap:butt; text-rendering:geometricPrecision; font-family:sans-serif; stroke-linejoin:bevel; stroke-width:0;\"\n",
        "    ><text x=\"-1.0938\" xml:space=\"preserve\" y=\"9.2822\" style=\"stroke:none;\"\n",
        "      >1.2</text\n",
        "    ></g\n",
        "    ><g transform=\"translate(50.875,335.7)\" style=\"font-size:10; stroke-linecap:butt; text-rendering:geometricPrecision; font-family:sans-serif; stroke-linejoin:bevel; stroke-width:0;\"\n",
        "    ><text x=\"-1.0938\" xml:space=\"preserve\" y=\"9.2822\" style=\"stroke:none;\"\n",
        "      >1.4</text\n",
        "    ></g\n",
        "    ><g transform=\"translate(50.875,300.3)\" style=\"font-size:10; stroke-linecap:butt; text-rendering:geometricPrecision; font-family:sans-serif; stroke-linejoin:bevel; stroke-width:0;\"\n",
        "    ><text x=\"-1.0938\" xml:space=\"preserve\" y=\"9.2822\" style=\"stroke:none;\"\n",
        "      >1.6</text\n",
        "    ></g\n",
        "    ><g transform=\"translate(50.875,264.9)\" style=\"font-size:10; stroke-linecap:butt; text-rendering:geometricPrecision; font-family:sans-serif; stroke-linejoin:bevel; stroke-width:0;\"\n",
        "    ><text x=\"-1.0938\" xml:space=\"preserve\" y=\"9.2822\" style=\"stroke:none;\"\n",
        "      >1.8</text\n",
        "    ></g\n",
        "    ><g transform=\"translate(50.875,194.1)\" style=\"font-size:10; stroke-linecap:butt; text-rendering:geometricPrecision; font-family:sans-serif; stroke-linejoin:bevel; stroke-width:0;\"\n",
        "    ><text x=\"-0.7344\" xml:space=\"preserve\" y=\"9.2822\" style=\"stroke:none;\"\n",
        "      >2.2</text\n",
        "    ></g\n",
        "    ><g transform=\"translate(49.875,158.7)\" style=\"font-size:10; stroke-linecap:butt; text-rendering:geometricPrecision; font-family:sans-serif; stroke-linejoin:bevel; stroke-width:0;\"\n",
        "    ><text x=\"-0.7344\" xml:space=\"preserve\" y=\"9.2822\" style=\"stroke:none;\"\n",
        "      >2.4</text\n",
        "    ></g\n",
        "    ><g transform=\"translate(50.875,123.3)\" style=\"font-size:10; stroke-linecap:butt; text-rendering:geometricPrecision; font-family:sans-serif; stroke-linejoin:bevel; stroke-width:0;\"\n",
        "    ><text x=\"-0.7344\" xml:space=\"preserve\" y=\"9.2822\" style=\"stroke:none;\"\n",
        "      >2.6</text\n",
        "    ></g\n",
        "    ><g transform=\"translate(50.875,87.9)\" style=\"font-size:10; stroke-linecap:butt; text-rendering:geometricPrecision; font-family:sans-serif; stroke-linejoin:bevel; stroke-width:0;\"\n",
        "    ><text x=\"-0.7344\" xml:space=\"preserve\" y=\"9.2822\" style=\"stroke:none;\"\n",
        "      >2.8</text\n",
        "    ></g\n",
        "    ><g style=\"text-rendering:geometricPrecision; font-size:10; shape-rendering:crispEdges; font-family:sans-serif; stroke-linecap:butt;\"\n",
        "    ><path style=\"fill:none;\" d=\"M75.875 413 L69.875 413\"\n",
        "      /><path style=\"fill:none;\" d=\"M75.875 377.6 L69.875 377.6\"\n",
        "      /><path style=\"fill:none;\" d=\"M75.875 342.2 L69.875 342.2\"\n",
        "      /><path style=\"fill:none;\" d=\"M75.875 306.8 L69.875 306.8\"\n",
        "      /><path style=\"fill:none;\" d=\"M75.875 271.4 L69.875 271.4\"\n",
        "      /><path style=\"fill:none;\" d=\"M75.875 236 L69.875 236\"\n",
        "      /><path style=\"fill:none;\" d=\"M75.875 200.6 L69.875 200.6\"\n",
        "      /><path style=\"fill:none;\" d=\"M75.875 165.2 L69.875 165.2\"\n",
        "      /><path style=\"fill:none;\" d=\"M75.875 129.8 L69.875 129.8\"\n",
        "      /><path style=\"fill:none;\" d=\"M75.875 94.4 L69.875 94.4\"\n",
        "      /><path style=\"fill:none;\" d=\"M75.875 59 L69.875 59\"\n",
        "      /><path style=\"fill:none;\" d=\"M75.875 413 L72.875 413\"\n",
        "      /><path style=\"fill:none;\" d=\"M75.875 395.3 L72.875 395.3\"\n",
        "      /><path style=\"fill:none;\" d=\"M75.875 377.6 L72.875 377.6\"\n",
        "      /><path style=\"fill:none;\" d=\"M75.875 359.9 L72.875 359.9\"\n",
        "      /><path style=\"fill:none;\" d=\"M75.875 342.2 L72.875 342.2\"\n",
        "      /><path style=\"fill:none;\" d=\"M75.875 324.5 L72.875 324.5\"\n",
        "      /><path style=\"fill:none;\" d=\"M75.875 306.8 L72.875 306.8\"\n",
        "      /><path style=\"fill:none;\" d=\"M75.875 289.1 L72.875 289.1\"\n",
        "      /><path style=\"fill:none;\" d=\"M75.875 271.4 L72.875 271.4\"\n",
        "      /><path style=\"fill:none;\" d=\"M75.875 253.7 L72.875 253.7\"\n",
        "      /><path style=\"fill:none;\" d=\"M75.875 236 L72.875 236\"\n",
        "      /><path style=\"fill:none;\" d=\"M75.875 218.3 L72.875 218.3\"\n",
        "      /><path style=\"fill:none;\" d=\"M75.875 200.6 L72.875 200.6\"\n",
        "      /><path style=\"fill:none;\" d=\"M75.875 182.9 L72.875 182.9\"\n",
        "      /><path style=\"fill:none;\" d=\"M75.875 165.2 L72.875 165.2\"\n",
        "      /><path style=\"fill:none;\" d=\"M75.875 147.5 L72.875 147.5\"\n",
        "      /><path style=\"fill:none;\" d=\"M75.875 129.8 L72.875 129.8\"\n",
        "      /><path style=\"fill:none;\" d=\"M75.875 112.1 L72.875 112.1\"\n",
        "      /><path style=\"fill:none;\" d=\"M75.875 94.4 L72.875 94.4\"\n",
        "      /><path style=\"fill:none;\" d=\"M75.875 76.7 L72.875 76.7\"\n",
        "      /><path style=\"fill:none;\" d=\"M75.875 59 L72.875 59\"\n",
        "      /><path style=\"fill:none;\" d=\"M75.875 59 L75.875 413\"\n",
        "      /><path d=\"M75.875 413 L303.5 236 L531.125 59\" style=\"fill:none; clip-path:url(#clipPath1); stroke:blue;\"\n",
        "      /><path d=\"M75.875 413 L303.5 236 L531.125 59\" style=\"fill:none; clip-path:url(#clipPath1); stroke:blue;\"\n",
        "      /><path d=\"M75.875 413 L303.5 236 L531.125 59\" style=\"fill:none; clip-path:url(#clipPath1); stroke:blue;\"\n",
        "      /><path style=\"fill:none;\" d=\"M75.875 413 L75.875 59 L75.875 59 L531.125 59 L531.125 413 L531.125 413 L75.875 413\"\n",
        "      /><path style=\"fill:none;\" d=\"M531.125 59 L75.875 59\"\n",
        "      /><path style=\"fill:none;\" d=\"M531.125 59 L531.125 413\"\n",
        "      /><path style=\"fill:none;\" d=\"M531.125 59 L531.125 59\"\n",
        "    /></g\n",
        "  ></g\n",
        "></svg\n",
        ">\n"
       ]
      }
     ],
     "prompt_number": 6
    },
    {
     "cell_type": "markdown",
     "metadata": {},
     "source": [
      "Example 3D plots."
     ]
    },
    {
     "cell_type": "code",
     "collapsed": false,
     "input": [
      "%%scilab -f jpg\n",
      "\n",
      "# simple plot using z = f(x, y)\n",
      "t = [0: 0.3: 2 * %pi]';\n",
      "z = sin(t) * cos(t');\n",
      "plot3d(t, t, z);"
     ],
     "language": "python",
     "metadata": {},
     "outputs": [
      {
       "metadata": {},
       "output_type": "display_data",
       "text": []
      },
      {
       "jpeg": "[encoded data removed]",
       "metadata": {},
       "output_type": "display_data"
      }
     ],
     "prompt_number": 7
    },
    {
     "cell_type": "code",
     "collapsed": false,
     "input": [
      "%%scilab -f png\n",
      "\n",
      "[x, y] = meshgrid(0:0.1:3);\n",
      "r = sin(x - 0.5).^2 + cos(y - 0.5).^2;\n",
      "surf(x, y, r);"
     ],
     "language": "python",
     "metadata": {},
     "outputs": [
      {
       "metadata": {},
       "output_type": "display_data",
       "text": []
      },
      {
       "metadata": {},
       "output_type": "display_data",
       "png": "[encoded data removed]"
      }
     ],
     "prompt_number": 8
    },
    {
     "cell_type": "markdown",
     "metadata": {},
     "source": [
      "Plots can be drawn inline (default) or bring up the Scilab plotting GUI by using the -g (or --gui) flag: "
     ]
    },
    {
     "cell_type": "code",
     "collapsed": false,
     "input": [
      "%%scilab -g\n",
      "plot([1,2,3])\n",
      "# brings up a Scilab plotting GUI"
     ],
     "language": "python",
     "metadata": {},
     "outputs": [
      {
       "metadata": {},
       "output_type": "display_data",
       "text": []
      }
     ],
     "prompt_number": 9
    },
    {
     "cell_type": "code",
     "collapsed": false,
     "input": [],
     "language": "python",
     "metadata": {},
     "outputs": [],
     "prompt_number": 9
    }
   ],
   "metadata": {}
  }
 ]
}